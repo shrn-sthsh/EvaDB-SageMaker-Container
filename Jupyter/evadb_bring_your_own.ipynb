{
  "cells": [
    {
      "cell_type": "code",
      "execution_count": null,
      "id": "06202128-5772-4ec1-8173-861fe945e466",
      "metadata": {},
      "outputs": [],
      "source": [
        "import sagemaker as sage\n",
        "\n",
        "#note this function only works in sage notebooks\n",
        "role = sage.get_execution_role()\n",
        "\n",
        "sess = sage.Session()\n",
        "account = sess.boto_session.client('sts').get_caller_identity()['Account']\n",
        "\n",
        "# path to the s3 location to store the models\n",
        "bucket_path = \"s3://mdb-sagemaker/models/\"\n",
        "region = sess.boto_session.region_name\n",
        "\n",
        "# location of the mindsdb container\n",
        "image = '{}.dkr.ecr.{}.amazonaws.com/mindsdb_lts:latest'.format(account, region)\n",
        "\n",
        "# note that to_predict is required in hyperparameters\n",
        "evadb_instance = sage.estimator.Estimator(image,\n",
        "                    role, 1, 'ml.m4.xlarge',\n",
        "                    output_path=bucket_path,\n",
        "                    sagemaker_session=sess,\n",
        "                    base_job_name=\"mindsdb-lts-sdk\",\n",
        "                    hyperparameters={\"to_predict\": \"Class\"})\n",
        "\n",
        "# read data from                     \n",
        "dataset_location = 's3://mdb-sagemaker/diabetes.csv'\n",
        "evadb_instance.fit(dataset_location)\n",
        "print('DONE')\n",
        "\n",
        "# deploy container\n",
        "predictor = evadb_instance.deploy(1, 'ml.m4.xlarge', endpoint_name='mindsdb-impl')\n",
        "\n",
        "with open('test_data/diabetes-test.csv', 'r') as reader:\n",
        "    when_data = reader.read()\n",
        "result = predictor.predict(when_data).decode('utf-8')\n",
        "print(\"Result: \", result)"
      ]
    }
  ],
  "metadata": {
    "kernelspec": {
      "display_name": "Python (Pyodide)",
      "language": "python",
      "name": "python"
    },
    "language_info": {
      "codemirror_mode": {
        "name": "python",
        "version": 3
      },
      "file_extension": ".py",
      "mimetype": "text/x-python",
      "name": "python",
      "nbconvert_exporter": "python",
      "pygments_lexer": "ipython3",
      "version": "3.8"
    }
  },
  "nbformat": 4,
  "nbformat_minor": 5
}
